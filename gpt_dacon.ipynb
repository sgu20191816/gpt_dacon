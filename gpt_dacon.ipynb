{
  "cells": [
    {
      "cell_type": "markdown",
      "metadata": {
        "id": "view-in-github",
        "colab_type": "text"
      },
      "source": [
        "<a href=\"https://colab.research.google.com/github/sgu20191816/gpt_dacon/blob/main/gpt_dacon.ipynb\" target=\"_parent\"><img src=\"https://colab.research.google.com/assets/colab-badge.svg\" alt=\"Open In Colab\"/></a>"
      ]
    },
    {
      "cell_type": "code",
      "execution_count": null,
      "metadata": {
        "id": "hHUCq4mBjv2u"
      },
      "outputs": [],
      "source": [
        "from google.colab import drive\n",
        "drive.mount('/content/drive')"
      ]
    },
    {
      "cell_type": "code",
      "source": [
        "import pandas as pd\n",
        "from sklearn.feature_extraction.text import TfidfVectorizer\n",
        "from sklearn.model_selection import StratifiedKFold\n",
        "from sklearn.svm import LinearSVC\n",
        "from xgboost import XGBClassifier\n",
        "\n",
        "# 데이터 불러오기\n",
        "train = pd.read_csv('/content/drive/MyDrive/open/train.csv')\n",
        "test = pd.read_csv('/content/drive/MyDrive/open/test.csv')\n",
        "submission = pd.read_csv('/content/drive/MyDrive/open/sample_submission.csv')\n",
        "\n",
        "# TfidfVectorizer를 사용하여 문서를 벡터화\n",
        "vectorizer = TfidfVectorizer(stop_words='english', ngram_range=(1,2), max_features=30000)\n",
        "X = vectorizer.fit_transform(train['text'])\n",
        "y = train['label']\n",
        "X_test = vectorizer.transform(test['text'])\n",
        "\n",
        "# 10개의 fold로 나누기\n",
        "skf = StratifiedKFold(n_splits=10, shuffle=True, random_state=42)\n",
        "\n",
        "# 각 fold마다 LinearSVC 모델 학습시키기\n",
        "svc_preds = []\n",
        "for train_idx, val_idx in skf.split(X, y):\n",
        "  X_train, y_train = X[train_idx], y[train_idx]\n",
        "  X_val, y_val = X[val_idx], y[val_idx]\n",
        "  svc_model = LinearSVC(C=0.1)\n",
        "  svc_model.fit(X_train, y_train)\n",
        "  svc_pred = svc_model.predict(X_val)\n",
        "  svc_preds.append(svc_pred)\n",
        "\n",
        "# 각 fold마다 XGBoost 모델 학습시키기\n",
        "xgb_preds = []\n",
        "for train_idx, val_idx in skf.split(X, y):\n",
        "  X_train, y_train = X[train_idx], y[train_idx]\n",
        "  X_val, y_val = X[val_idx], y[val_idx]\n",
        "  xgb_model = XGBClassifier(max_depth=6, n_estimators=200, learning_rate=0.05, objective='multi:softmax')\n",
        "  xgb_model.fit(X_train, y_train, eval_set=[(X_train, y_train), (X_val, y_val)], verbose=2, early_stopping_rounds=50)\n",
        "  xgb_pred = xgb_model.predict(X_val)\n",
        "  xgb_preds.append(xgb_pred)\n"
      ],
      "metadata": {
        "id": "J-Pw5dDtRg7a"
      },
      "execution_count": null,
      "outputs": []
    },
    {
      "cell_type": "code",
      "source": [
        "# LinearSVC와 XGBoost 모델의 예측 결과를 concatenate\n",
        "meta_X = pd.concat([pd.DataFrame(svc_preds), pd.DataFrame(xgb_preds)], axis=1)\n",
        "meta_y = pd.concat([pd.Series(y[val_idx]) for train_idx, val_idx in skf.split(X, y)])\n",
        "\n",
        "# 메타 모델 학습\n",
        "meta_model = XGBClassifier(max_depth=6, n_estimators=200, learning_rate=0.05, objective='multi:softmax')\n",
        "meta_model.fit(meta_X, meta_y)\n",
        "\n",
        "# 메타 모델을 사용하여 test 데이터 예측하기\n",
        "svc_test_preds = svc_model.predict(X_test)\n",
        "xgb_test_preds = xgb_model.predict(X_test)\n",
        "meta_X_test = pd.concat([pd.DataFrame(svc_test_preds), pd.DataFrame(xgb_test_preds)], axis=1)\n",
        "test_preds = meta_model.predict(meta_X_test)\n",
        "\n",
        "# 제출용 파일 생성\n",
        "submission['label'] = test_preds\n",
        "submission.to_csv('/content/drive/MyDrive/open/submission.csv', index=False)\n"
      ],
      "metadata": {
        "id": "ZpnhMs2TYrKS"
      },
      "execution_count": null,
      "outputs": []
    },
    {
      "cell_type": "code",
      "source": [],
      "metadata": {
        "id": "NSESCsy5f2Rl"
      },
      "execution_count": null,
      "outputs": []
    }
  ],
  "metadata": {
    "accelerator": "GPU",
    "colab": {
      "machine_shape": "hm",
      "provenance": [],
      "mount_file_id": "1z500jbIpIXbDxjYQOh4HA_BDpHJxkhp2",
      "authorship_tag": "ABX9TyMa4kdRDVXgtW8+KCBdQYdU",
      "include_colab_link": true
    },
    "gpuClass": "standard",
    "kernelspec": {
      "display_name": "Python 3",
      "name": "python3"
    },
    "language_info": {
      "name": "python"
    }
  },
  "nbformat": 4,
  "nbformat_minor": 0
}